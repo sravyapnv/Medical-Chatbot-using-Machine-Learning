{
  "nbformat": 4,
  "nbformat_minor": 0,
  "metadata": {
    "colab": {
      "provenance": []
    },
    "kernelspec": {
      "name": "python3",
      "display_name": "Python 3"
    },
    "language_info": {
      "name": "python"
    }
  },
  "cells": [
    {
      "cell_type": "code",
      "execution_count": 1,
      "metadata": {
        "colab": {
          "base_uri": "https://localhost:8080/"
        },
        "id": "e-eszlhVH9pO",
        "outputId": "14274557-161d-439e-f8cc-dd43fb4f8260"
      },
      "outputs": [
        {
          "output_type": "stream",
          "name": "stderr",
          "text": [
            "/usr/local/lib/python3.10/dist-packages/sklearn/feature_extraction/text.py:528: UserWarning: The parameter 'token_pattern' will not be used since 'tokenizer' is not None'\n",
            "  warnings.warn(\n"
          ]
        },
        {
          "output_type": "stream",
          "name": "stdout",
          "text": [
            "Please enter your symptoms (comma-separated): cough, cold\n",
            "Predicted Disease: asthma\n",
            "Predicted Treatment: antibiotics, rest\n"
          ]
        }
      ],
      "source": [
        "from sklearn.feature_extraction.text import CountVectorizer\n",
        "from sklearn.ensemble import RandomForestClassifier\n",
        "from sklearn.preprocessing import LabelEncoder\n",
        "\n",
        "# Sample medical data\n",
        "data = [([\"fever\", \"cough\"], \"cold\", \"rest, drink fluids\"),\n",
        "        ([\"fever\", \"fatigue\"], \"flu\", \"rest, drink fluids\"),\n",
        "        ([\"cough\", \"shortness of breath\"], \"pneumonia\", \"antibiotics, rest\"),\n",
        "        ([\"headache\", \"nausea\"], \"migraine\", \"rest in a quiet, dark room\"),\n",
        "        ([\"fever\", \"sore throat\"], \"streptococcal infection\", \"antibiotics, rest\"),\n",
        "        ([\"rash\", \"itching\"], \"allergic reaction\", \"antihistamines, avoid allergens\"),\n",
        "        ([\"stomach pain\", \"diarrhea\"], \"gastroenteritis\", \"stay hydrated, bland diet\"),\n",
        "        ([\"chest pain\", \"shortness of breath\"], \"heart attack\", \"seek emergency medical help\"),\n",
        "        ([\"cough\", \"wheezing\"], \"asthma\", \"inhaled bronchodilators\"),\n",
        "        ([\"fatigue\", \"weight loss\"], \"chronic fatigue syndrome\", \"rest, fluids, antiviral medication\"),\n",
        "        ([\"fatigue\", \"fever\"], \"influenza\", \"rest, fluids, antiviral medication\"),\n",
        "        ([\"joint pain\", \"fever\"], \"rheumatoid arthritis\", \"\"),  # Missing treatment data\n",
        "        ([\"vomiting\", \"abdominal pain\"], \"appendicitis\", \"medications, physical therapy, surgery to remove the appendix\"),\n",
        "        ([\"frequent urination\", \"thirst\"], \"diabetes\", \"insulin therapy, dietary changes\"),\n",
        "        ([\"runny nose\", \"sneezing\"], \"common cold\", \"rest, fluids, over-the-counter meds\"),\n",
        "        ([\"difficulty swallowing\", \"weight loss\"], \"esophageal cancer\", \"surgery, chemotherapy\"),\n",
        "        ([\"chest pain\", \"dizziness\"], \"angina\", \"medications, lifestyle changes\"),\n",
        "        ([\"fatigue\", \"pale skin\"], \"anemia\", \"iron supplements, dietary changes\"),\n",
        "        ([\"abdominal pain\", \"bloating\"], \"irritable bowel syndrome\", \"dietary changes, stress management\"),\n",
        "        ([\"rash\", \"fever\"], \"measles\", \"rest, fluids, symptomatic treatment\")]\n",
        "\n",
        "# Split data into input (X) and labels (y)\n",
        "X = [', '.join(symptoms) for symptoms, _, _ in data]\n",
        "y_disease = [disease for _, disease, _ in data]\n",
        "y_treatment = [treatment for _, _, treatment in data]\n",
        "\n",
        "# Convert symptom input to numerical features\n",
        "vectorizer = CountVectorizer(tokenizer=lambda x: x.split(', '), lowercase=False)\n",
        "X_vectorized = vectorizer.fit_transform(X)\n",
        "\n",
        "# Encode disease and treatment labels\n",
        "label_encoder_disease = LabelEncoder()\n",
        "label_encoder_treatment = LabelEncoder()\n",
        "y_disease_encoded = label_encoder_disease.fit_transform(y_disease)\n",
        "y_treatment_encoded = label_encoder_treatment.fit_transform(y_treatment)\n",
        "\n",
        "# Initialize the Random Forest Classifier for disease prediction\n",
        "rf_classifier_disease = RandomForestClassifier(n_estimators=100, random_state=42)\n",
        "rf_classifier_disease.fit(X_vectorized, y_disease_encoded)\n",
        "\n",
        "# Initialize the Random Forest Classifier for treatment prediction\n",
        "rf_classifier_treatment = RandomForestClassifier(n_estimators=100, random_state=42)\n",
        "rf_classifier_treatment.fit(X_vectorized, y_treatment_encoded)\n",
        "\n",
        "# User input for symptoms\n",
        "user_symptoms = input(\"Please enter your symptoms (comma-separated): \").split(', ')\n",
        "\n",
        "# Convert user symptoms to numerical features\n",
        "user_symptoms_text = ', '.join(user_symptoms)\n",
        "user_symptoms_vectorized = vectorizer.transform([user_symptoms_text])\n",
        "\n",
        "# Predict disease and treatment based on user symptoms\n",
        "predicted_disease_encoded = rf_classifier_disease.predict(user_symptoms_vectorized)[0]\n",
        "predicted_treatment_encoded = rf_classifier_treatment.predict(user_symptoms_vectorized)[0]\n",
        "\n",
        "# Decode the predicted labels\n",
        "predicted_disease = label_encoder_disease.inverse_transform([predicted_disease_encoded])[0]\n",
        "predicted_treatment = label_encoder_treatment.inverse_transform([predicted_treatment_encoded])[0]\n",
        "\n",
        "print(f\"Predicted Disease: {predicted_disease}\")\n",
        "print(f\"Predicted Treatment: {predicted_treatment}\")"
      ]
    }
  ]
}